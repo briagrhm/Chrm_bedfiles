{
 "cells": [
  {
   "cell_type": "code",
   "execution_count": 1,
   "id": "a608b31f",
   "metadata": {},
   "outputs": [],
   "source": [
    "import os \n",
    "import pandas as pd \n",
    "file_to_load = os.path.join(\"Resources_CTCF\",\"CTCF_export.bed\")\n"
   ]
  },
  {
   "cell_type": "code",
   "execution_count": 2,
   "id": "7c435dc1",
   "metadata": {},
   "outputs": [
    {
     "data": {
      "text/plain": [
       "'/Users/bg/Desktop/Class Folder Bootcamp/CTCF_export'"
      ]
     },
     "execution_count": 2,
     "metadata": {},
     "output_type": "execute_result"
    }
   ],
   "source": [
    "os.getcwd()   "
   ]
  },
  {
   "cell_type": "code",
   "execution_count": 3,
   "id": "1ffcad76",
   "metadata": {},
   "outputs": [
    {
     "data": {
      "text/html": [
       "<div>\n",
       "<style scoped>\n",
       "    .dataframe tbody tr th:only-of-type {\n",
       "        vertical-align: middle;\n",
       "    }\n",
       "\n",
       "    .dataframe tbody tr th {\n",
       "        vertical-align: top;\n",
       "    }\n",
       "\n",
       "    .dataframe thead th {\n",
       "        text-align: right;\n",
       "    }\n",
       "</style>\n",
       "<table border=\"1\" class=\"dataframe\">\n",
       "  <thead>\n",
       "    <tr style=\"text-align: right;\">\n",
       "      <th></th>\n",
       "      <th>0</th>\n",
       "      <th>1</th>\n",
       "      <th>2</th>\n",
       "    </tr>\n",
       "  </thead>\n",
       "  <tbody>\n",
       "    <tr>\n",
       "      <th>0</th>\n",
       "      <td>chr1</td>\n",
       "      <td>1382275</td>\n",
       "      <td>1382774</td>\n",
       "    </tr>\n",
       "    <tr>\n",
       "      <th>1</th>\n",
       "      <td>chr1</td>\n",
       "      <td>1647975</td>\n",
       "      <td>1648524</td>\n",
       "    </tr>\n",
       "    <tr>\n",
       "      <th>2</th>\n",
       "      <td>chr1</td>\n",
       "      <td>1918925</td>\n",
       "      <td>1919699</td>\n",
       "    </tr>\n",
       "    <tr>\n",
       "      <th>3</th>\n",
       "      <td>chr1</td>\n",
       "      <td>6343350</td>\n",
       "      <td>6343874</td>\n",
       "    </tr>\n",
       "    <tr>\n",
       "      <th>4</th>\n",
       "      <td>chr1</td>\n",
       "      <td>9867375</td>\n",
       "      <td>9867874</td>\n",
       "    </tr>\n",
       "  </tbody>\n",
       "</table>\n",
       "</div>"
      ],
      "text/plain": [
       "      0        1        2\n",
       "0  chr1  1382275  1382774\n",
       "1  chr1  1647975  1648524\n",
       "2  chr1  1918925  1919699\n",
       "3  chr1  6343350  6343874\n",
       "4  chr1  9867375  9867874"
      ]
     },
     "execution_count": 3,
     "metadata": {},
     "output_type": "execute_result"
    }
   ],
   "source": [
    "df = pd.read_csv(file_to_load, sep = '\\t', header = None)\n",
    "df.head()"
   ]
  },
  {
   "cell_type": "code",
   "execution_count": 4,
   "id": "7f1635f1",
   "metadata": {},
   "outputs": [
    {
     "data": {
      "text/plain": [
       "(669, 3)"
      ]
     },
     "execution_count": 4,
     "metadata": {},
     "output_type": "execute_result"
    }
   ],
   "source": [
    "df.shape"
   ]
  },
  {
   "cell_type": "code",
   "execution_count": 5,
   "id": "3e3d1ce6",
   "metadata": {},
   "outputs": [
    {
     "data": {
      "text/plain": [
       "669"
      ]
     },
     "execution_count": 5,
     "metadata": {},
     "output_type": "execute_result"
    }
   ],
   "source": [
    "#Collect the length of the dataframe to be used in equation\n",
    "CTCF = len(df)\n",
    "CTCF"
   ]
  },
  {
   "cell_type": "code",
   "execution_count": 8,
   "id": "64241cc9",
   "metadata": {},
   "outputs": [
    {
     "name": "stdout",
     "output_type": "stream",
     "text": [
      "Enter Percentage:20\n"
     ]
    },
    {
     "data": {
      "text/plain": [
       "33"
      ]
     },
     "execution_count": 8,
     "metadata": {},
     "output_type": "execute_result"
    }
   ],
   "source": [
    "#Creat input for the integer to represent the percentage. \n",
    "percent_input = int(input(\"Enter Percentage:\"))\n",
    "deliverables = round(CTCF/percent_input)\n",
    "deliverables "
   ]
  },
  {
   "cell_type": "code",
   "execution_count": 7,
   "id": "572a5194",
   "metadata": {},
   "outputs": [],
   "source": [
    "# Set variables for chunksize, label batches of data(batch_no)\n",
    "chunk_size = deliverables\n",
    "batch_no = 1\n"
   ]
  },
  {
   "cell_type": "code",
   "execution_count": null,
   "id": "3169517d",
   "metadata": {},
   "outputs": [],
   "source": [
    "#Break into chunk and iterate through the chunked data. Also save chuked data into seperate folders \n",
    "for chunk in pd.read_csv(file_to_load ,chunksize=chunk_size):\n",
    "    chunk.to_csv('Analysis_CTCF' + str(batch_no)+ '.txt')\n",
    "    batch_no +=1"
   ]
  },
  {
   "cell_type": "code",
   "execution_count": null,
   "id": "502b3ba7",
   "metadata": {},
   "outputs": [],
   "source": []
  },
  {
   "cell_type": "code",
   "execution_count": null,
   "id": "48b56b09",
   "metadata": {},
   "outputs": [],
   "source": []
  },
  {
   "cell_type": "code",
   "execution_count": null,
   "id": "17a778fb",
   "metadata": {},
   "outputs": [],
   "source": []
  },
  {
   "cell_type": "code",
   "execution_count": null,
   "id": "9a2deade",
   "metadata": {},
   "outputs": [],
   "source": []
  },
  {
   "cell_type": "code",
   "execution_count": null,
   "id": "8d5a655c",
   "metadata": {},
   "outputs": [],
   "source": [
    "# Code below is trial codes that worked partially "
   ]
  },
  {
   "cell_type": "code",
   "execution_count": null,
   "id": "2bdf8f1a",
   "metadata": {},
   "outputs": [],
   "source": [
    "start = 0\n",
    "end = 669"
   ]
  },
  {
   "cell_type": "code",
   "execution_count": null,
   "id": "47d7eeb1",
   "metadata": {},
   "outputs": [],
   "source": [
    "# How to break bed files up into chunks in python\n",
    "# Use range to split the list into evenly sized chunks \n",
    "for x in range(start,end,deliverables):\n",
    "    CTCF_1 = df[x:x+deliverables]\n",
    "    print(CTCF_1)"
   ]
  },
  {
   "cell_type": "code",
   "execution_count": null,
   "id": "b846bf97",
   "metadata": {},
   "outputs": [],
   "source": [
    "#Export the dataset chunks to txt.file (This only saves the last file)\n",
    "CTCF_1.to_csv(\"CTCF_anlysis\"+ str(batch_no) + '.txt')\n",
    "batch_no +=1"
   ]
  },
  {
   "cell_type": "code",
   "execution_count": 9,
   "id": "9de957cb",
   "metadata": {},
   "outputs": [
    {
     "data": {
      "text/html": [
       "<div>\n",
       "<style scoped>\n",
       "    .dataframe tbody tr th:only-of-type {\n",
       "        vertical-align: middle;\n",
       "    }\n",
       "\n",
       "    .dataframe tbody tr th {\n",
       "        vertical-align: top;\n",
       "    }\n",
       "\n",
       "    .dataframe thead th {\n",
       "        text-align: right;\n",
       "    }\n",
       "</style>\n",
       "<table border=\"1\" class=\"dataframe\">\n",
       "  <thead>\n",
       "    <tr style=\"text-align: right;\">\n",
       "      <th></th>\n",
       "      <th>0</th>\n",
       "      <th>1</th>\n",
       "      <th>2</th>\n",
       "    </tr>\n",
       "  </thead>\n",
       "  <tbody>\n",
       "    <tr>\n",
       "      <th>299</th>\n",
       "      <td>chr9</td>\n",
       "      <td>25472625</td>\n",
       "      <td>25473124</td>\n",
       "    </tr>\n",
       "    <tr>\n",
       "      <th>547</th>\n",
       "      <td>chr18</td>\n",
       "      <td>46152625</td>\n",
       "      <td>46153299</td>\n",
       "    </tr>\n",
       "    <tr>\n",
       "      <th>390</th>\n",
       "      <td>chr12</td>\n",
       "      <td>4307825</td>\n",
       "      <td>4308499</td>\n",
       "    </tr>\n",
       "    <tr>\n",
       "      <th>375</th>\n",
       "      <td>chr11</td>\n",
       "      <td>67505750</td>\n",
       "      <td>67506649</td>\n",
       "    </tr>\n",
       "    <tr>\n",
       "      <th>104</th>\n",
       "      <td>chr3</td>\n",
       "      <td>19594375</td>\n",
       "      <td>19594824</td>\n",
       "    </tr>\n",
       "    <tr>\n",
       "      <th>...</th>\n",
       "      <td>...</td>\n",
       "      <td>...</td>\n",
       "      <td>...</td>\n",
       "    </tr>\n",
       "    <tr>\n",
       "      <th>56</th>\n",
       "      <td>chr1</td>\n",
       "      <td>241050200</td>\n",
       "      <td>241050699</td>\n",
       "    </tr>\n",
       "    <tr>\n",
       "      <th>645</th>\n",
       "      <td>chr22</td>\n",
       "      <td>15792225</td>\n",
       "      <td>15792874</td>\n",
       "    </tr>\n",
       "    <tr>\n",
       "      <th>594</th>\n",
       "      <td>chr20</td>\n",
       "      <td>29409250</td>\n",
       "      <td>29409699</td>\n",
       "    </tr>\n",
       "    <tr>\n",
       "      <th>401</th>\n",
       "      <td>chr12</td>\n",
       "      <td>51980375</td>\n",
       "      <td>51980674</td>\n",
       "    </tr>\n",
       "    <tr>\n",
       "      <th>52</th>\n",
       "      <td>chr1</td>\n",
       "      <td>210653850</td>\n",
       "      <td>210654224</td>\n",
       "    </tr>\n",
       "  </tbody>\n",
       "</table>\n",
       "<p>67 rows × 3 columns</p>\n",
       "</div>"
      ],
      "text/plain": [
       "         0          1          2\n",
       "299   chr9   25472625   25473124\n",
       "547  chr18   46152625   46153299\n",
       "390  chr12    4307825    4308499\n",
       "375  chr11   67505750   67506649\n",
       "104   chr3   19594375   19594824\n",
       "..     ...        ...        ...\n",
       "56    chr1  241050200  241050699\n",
       "645  chr22   15792225   15792874\n",
       "594  chr20   29409250   29409699\n",
       "401  chr12   51980375   51980674\n",
       "52    chr1  210653850  210654224\n",
       "\n",
       "[67 rows x 3 columns]"
      ]
     },
     "execution_count": 9,
     "metadata": {},
     "output_type": "execute_result"
    }
   ],
   "source": [
    "#Select for the percentage of data (This code selects for percentages but it has to manually be input)\n",
    "def frac(dataframe,fraction, other_info=None):\n",
    "    return dataframe.sample(frac=fraction)\n",
    "df_1 = frac(df,0.1)\n",
    "df_1\n"
   ]
  },
  {
   "cell_type": "code",
   "execution_count": null,
   "id": "c21779f6",
   "metadata": {},
   "outputs": [],
   "source": []
  },
  {
   "cell_type": "code",
   "execution_count": null,
   "id": "5a6d19b3",
   "metadata": {},
   "outputs": [],
   "source": []
  },
  {
   "cell_type": "code",
   "execution_count": null,
   "id": "c7299bfc",
   "metadata": {},
   "outputs": [],
   "source": []
  },
  {
   "cell_type": "code",
   "execution_count": null,
   "id": "0723152a",
   "metadata": {},
   "outputs": [],
   "source": [
    "\n"
   ]
  },
  {
   "cell_type": "code",
   "execution_count": null,
   "id": "138d0aa7",
   "metadata": {},
   "outputs": [],
   "source": []
  },
  {
   "cell_type": "code",
   "execution_count": null,
   "id": "d7261a57",
   "metadata": {},
   "outputs": [],
   "source": []
  },
  {
   "cell_type": "code",
   "execution_count": null,
   "id": "b1d561b6",
   "metadata": {},
   "outputs": [],
   "source": []
  }
 ],
 "metadata": {
  "kernelspec": {
   "display_name": "PythonData",
   "language": "python",
   "name": "pythondata"
  },
  "language_info": {
   "codemirror_mode": {
    "name": "ipython",
    "version": 3
   },
   "file_extension": ".py",
   "mimetype": "text/x-python",
   "name": "python",
   "nbconvert_exporter": "python",
   "pygments_lexer": "ipython3",
   "version": "3.9.16"
  }
 },
 "nbformat": 4,
 "nbformat_minor": 5
}
